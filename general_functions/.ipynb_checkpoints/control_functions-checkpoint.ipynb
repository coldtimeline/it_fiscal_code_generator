{
 "cells": [
  {
   "cell_type": "code",
   "execution_count": 2,
   "id": "85a1153b",
   "metadata": {},
   "outputs": [],
   "source": [
    "import string\n",
    "\n",
    "def digit_or_special_present(input_string):\n",
    "    \"\"\"\n",
    "    Check if the input string contains any numbers or special characters.\n",
    "\n",
    "    Parameters:\n",
    "    input_string (str): The string to be checked.\n",
    "\n",
    "    Returns:\n",
    "    bool: True if the string contains numbers or special characters, False otherwise.\n",
    "    \"\"\"\n",
    "\n",
    "    # Define the set of special characters\n",
    "    special_characters = set(string.punctuation)\n",
    "\n",
    "    # Check each character in the string\n",
    "    for char in input_string:\n",
    "        # If the character is a digit or a special character, return True\n",
    "        if char.isdigit() or char in special_characters:\n",
    "            return True\n",
    "\n",
    "    # If no digits or special characters are found, return False\n",
    "    return False"
   ]
  },
  {
   "cell_type": "code",
   "execution_count": null,
   "id": "9a10a209",
   "metadata": {},
   "outputs": [],
   "source": []
  }
 ],
 "metadata": {
  "kernelspec": {
   "display_name": "Python 3",
   "language": "python",
   "name": "python3"
  },
  "language_info": {
   "codemirror_mode": {
    "name": "ipython",
    "version": 3
   },
   "file_extension": ".py",
   "mimetype": "text/x-python",
   "name": "python",
   "nbconvert_exporter": "python",
   "pygments_lexer": "ipython3",
   "version": "3.8.8"
  }
 },
 "nbformat": 4,
 "nbformat_minor": 5
}
